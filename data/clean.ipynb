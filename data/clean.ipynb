{
 "cells": [
  {
   "cell_type": "code",
   "execution_count": 1,
   "metadata": {
    "collapsed": true
   },
   "outputs": [],
   "source": [
    "# Step 1 - import packages\n",
    "import pandas as pd\n",
    "import pylab as plt\n",
    "import re\n",
    "import seaborn as sns\n",
    "import warnings\n"
   ]
  },
  {
   "cell_type": "code",
   "execution_count": 2,
   "outputs": [],
   "source": [
    "# Step 2 - jupyter notebook configuration\n",
    "\n",
    "# Warnings ignore\n",
    "warnings.simplefilter('ignore')\n",
    "\n",
    "# Show complete dataset in\n",
    "pd.set_option('display.max_columns', None)\n",
    "pd.set_option('display.max_rows', None)\n",
    "\n",
    "# Matplotlib\n",
    "%matplotlib inline"
   ],
   "metadata": {
    "collapsed": false,
    "pycharm": {
     "name": "#%%\n"
    }
   }
  },
  {
   "cell_type": "code",
   "execution_count": 3,
   "outputs": [],
   "source": [
    "# Step 3 - define custom functions\n",
    "\n",
    "'''replace_regex - replace regex patterns for an string in a DataFrame col\n",
    "Params:\n",
    "1. repl_dict : Dictionary - contains regex patterns to replace\n",
    "2. df        : DataFrame  - df object\n",
    "3. col       : String     - col name\n",
    "\n",
    "Return       : Bool\n",
    "\n",
    "'''\n",
    "\n",
    "def replace_regex(repl_dict, df, col):\n",
    "    try:\n",
    "        for key in repl_dict:\n",
    "            for el in repl_dict[key]:\n",
    "                df[col]=df[col].str.replace(el, key, regex=True)\n",
    "        return True\n",
    "    except:\n",
    "        return False\n",
    "\n",
    "\n",
    "'''get_year - obtain year from an string input\n",
    "Params:\n",
    "1. s     : String - the input string\n",
    "\n",
    "Return   : String - the year extracted\n",
    "\n",
    "'''\n",
    "\n",
    "def get_year(s):\n",
    "    match = re.search(\"([0-9]{4})\", s)\n",
    "    if match:\n",
    "        return match.group(0)\n",
    "    # else:\n",
    "    #    return \"2000\"\n",
    "\n",
    "# Jan|Feb|Mar|Apr|May|Jun|Jul|Aug|Sep|Oct|Nov|Dec\n",
    "\n",
    "\n",
    "'''get_date - obtain date from an string input\n",
    "Params:\n",
    "1. s     : String - the input string\n",
    "\n",
    "Return   : String - the date extracted\n",
    "\n",
    "'''\n",
    "\n",
    "def get_date(s):\n",
    "    match = re.search(\"([0-9]{2}-(Jan|Feb|Mar|Apr|May|Jun|Jul|Aug|Sep|Oct|Nov|Dec)-[0-9]{4})\", s)\n",
    "    if match:\n",
    "        return match.group(0)\n",
    "\n",
    "    match = re.search(\"((Jan|Feb|Mar|Apr|May|Jun|Jul|Aug|Sep|Oct|Nov|Dec)-[0-9]{4})\", s)\n",
    "    if match:\n",
    "        return match.group(0)\n",
    "\n",
    "    match = re.search(\"([0-9]{4})\", s)\n",
    "    if match:\n",
    "        return match.group(0)\n",
    "    else:\n",
    "        return \"2000\"\n",
    "\n",
    "\n",
    "def get_time(s):\n",
    "    match = re.search(\"([0-9]{2}h[0-9]{2})\", s)\n",
    "    if match:\n",
    "        return match.group(0)\n",
    "\n",
    "    match = re.search(\"(fter)\", s)\n",
    "    if match:\n",
    "        return \"Afternoon\"\n",
    "\n",
    "    match = re.search(\"(orning)\", s)\n",
    "    if match:\n",
    "        return \"Morning\"\n",
    "\n",
    "    match = re.search(\"(vening)\", s)\n",
    "    if match:\n",
    "        return \"Evening\"\n",
    "\n",
    "    match = re.search(\"(unch)\", s)\n",
    "    if match:\n",
    "        return \"Lunch\"\n",
    "\n",
    "    match = re.search(\"(ight)\", s)\n",
    "    if match:\n",
    "        return \"Night\"\n",
    "\n",
    "    match = re.search(\"(unset)\", s)\n",
    "    if match:\n",
    "        return \"Sunset\"\n",
    "\n",
    "    match = re.search(\"(dusk)\", s)\n",
    "    if match:\n",
    "        return \"Night\"\n",
    "\n",
    "    match = re.search(\"(iddday)\", s)\n",
    "    if match:\n",
    "        return \"Midday\"\n",
    "\n",
    "    else:\n",
    "        return \"Unknown\"\n"
   ],
   "metadata": {
    "collapsed": false,
    "pycharm": {
     "name": "#%%\n"
    }
   }
  },
  {
   "cell_type": "code",
   "execution_count": 4,
   "outputs": [],
   "source": [
    "# Step 4 - import csv\n",
    "sharks_ori=pd.read_csv('./attacks.csv', encoding=\"latin1\")"
   ],
   "metadata": {
    "collapsed": false,
    "pycharm": {
     "name": "#%%\n"
    }
   }
  },
  {
   "cell_type": "code",
   "execution_count": 5,
   "outputs": [],
   "source": [
    "# Step 5 - make a copy of df\n",
    "sharks=sharks_ori.copy()"
   ],
   "metadata": {
    "collapsed": false,
    "pycharm": {
     "name": "#%%\n"
    }
   }
  },
  {
   "cell_type": "code",
   "execution_count": 6,
   "outputs": [
    {
     "name": "stdout",
     "output_type": "stream",
     "text": [
      "<class 'pandas.core.frame.DataFrame'>\n",
      "RangeIndex: 25723 entries, 0 to 25722\n",
      "Data columns (total 24 columns):\n",
      " #   Column                  Non-Null Count  Dtype  \n",
      "---  ------                  --------------  -----  \n",
      " 0   Case Number             8702 non-null   object \n",
      " 1   Date                    6302 non-null   object \n",
      " 2   Year                    6300 non-null   float64\n",
      " 3   Type                    6298 non-null   object \n",
      " 4   Country                 6252 non-null   object \n",
      " 5   Area                    5847 non-null   object \n",
      " 6   Location                5762 non-null   object \n",
      " 7   Activity                5758 non-null   object \n",
      " 8   Name                    6092 non-null   object \n",
      " 9   Sex                     5737 non-null   object \n",
      " 10  Age                     3471 non-null   object \n",
      " 11  Injury                  6274 non-null   object \n",
      " 12  Fatal (Y/N)             5763 non-null   object \n",
      " 13  Time                    2948 non-null   object \n",
      " 14  Species                 3464 non-null   object \n",
      " 15  Investigator or Source  6285 non-null   object \n",
      " 16  pdf                     6302 non-null   object \n",
      " 17  href formula            6301 non-null   object \n",
      " 18  href                    6302 non-null   object \n",
      " 19  Case Number.1           6302 non-null   object \n",
      " 20  Case Number.2           6302 non-null   object \n",
      " 21  original order          6309 non-null   float64\n",
      " 22  Unnamed: 22             1 non-null      object \n",
      " 23  Unnamed: 23             2 non-null      object \n",
      "dtypes: float64(2), object(22)\n",
      "memory usage: 22.8 MB\n"
     ]
    }
   ],
   "source": [
    "# Step 6 - Get data types and not null registers per column\n",
    "sharks.info(memory_usage='deep')"
   ],
   "metadata": {
    "collapsed": false,
    "pycharm": {
     "name": "#%%\n"
    }
   }
  },
  {
   "cell_type": "code",
   "execution_count": 7,
   "outputs": [
    {
     "data": {
      "text/plain": "(25723, 24)"
     },
     "execution_count": 7,
     "metadata": {},
     "output_type": "execute_result"
    }
   ],
   "source": [
    "# Step 7 - Get dimensions of df\n",
    "sharks.shape"
   ],
   "metadata": {
    "collapsed": false,
    "pycharm": {
     "name": "#%%\n"
    }
   }
  },
  {
   "cell_type": "code",
   "execution_count": 8,
   "outputs": [
    {
     "data": {
      "text/plain": "Case Number               66.170353\nDate                      75.500525\nYear                      75.508300\nType                      75.516075\nCountry                   75.694903\nArea                      77.269370\nLocation                  77.599813\nActivity                  77.615364\nName                      76.316915\nSex                       77.697003\nAge                       86.506240\nInjury                    75.609377\nFatal (Y/N)               77.595926\nTime                      88.539439\nSpecies                   86.533453\nInvestigator or Source    75.566614\npdf                       75.500525\nhref formula              75.504412\nhref                      75.500525\nCase Number.1             75.500525\nCase Number.2             75.500525\noriginal order            75.473312\nUnnamed: 22               99.996112\nUnnamed: 23               99.992225\ndtype: float64"
     },
     "execution_count": 8,
     "metadata": {},
     "output_type": "execute_result"
    }
   ],
   "source": [
    "# Step 8 - Get nulls per column in percentage and absolute value\n",
    "\n",
    "# By absolute value\n",
    "nan_cols_abs=sharks.isna().sum()\n",
    "nan_cols_abs[nan_cols_abs>0]\n",
    "\n",
    "# Percentage of null values by column\n",
    "nan_cols_pct=sharks.isna().mean() * 100\n",
    "nan_cols_pct[nan_cols_pct>0]"
   ],
   "metadata": {
    "collapsed": false,
    "pycharm": {
     "name": "#%%\n"
    }
   }
  },
  {
   "cell_type": "code",
   "execution_count": 9,
   "outputs": [
    {
     "data": {
      "text/plain": "<AxesSubplot:>"
     },
     "execution_count": 9,
     "metadata": {},
     "output_type": "execute_result"
    },
    {
     "data": {
      "text/plain": "<Figure size 720x432 with 1 Axes>",
      "image/png": "[encoded data removed]"
     },
     "metadata": {
      "needs_background": "light"
     },
     "output_type": "display_data"
    }
   ],
   "source": [
    "# Step 9 - Plot nulls diagram\n",
    "plt.figure(figsize=(10, 6))\n",
    "\n",
    "sns.heatmap(sharks.isna(),\n",
    "            yticklabels=False,\n",
    "            cmap='viridis',\n",
    "            cbar=False)"
   ],
   "metadata": {
    "collapsed": false,
    "pycharm": {
     "name": "#%%\n"
    }
   }
  },
  {
   "cell_type": "code",
   "execution_count": 10,
   "outputs": [],
   "source": [
    "# Step 10 - Create subset with relevant rows\n",
    "filtered_cols = sharks.columns.drop([\"Case Number\", \"original order\"])\n",
    "subset = sharks[sharks[filtered_cols].notnull().any(axis=1)]"
   ],
   "metadata": {
    "collapsed": false,
    "pycharm": {
     "name": "#%%\n"
    }
   }
  },
  {
   "cell_type": "code",
   "execution_count": 11,
   "outputs": [],
   "source": [
    "# Step 11 - Fill all cells from \"Unnamed 22\" and \"Unnamed 23\" cols\n",
    "subset[\"Unnamed: 22\"].fillna(\"Unknown\", inplace=True)\n",
    "subset[\"Unnamed: 23\"].fillna(\"Unknown\", inplace=True)"
   ],
   "metadata": {
    "collapsed": false,
    "pycharm": {
     "name": "#%%\n"
    }
   }
  },
  {
   "cell_type": "code",
   "execution_count": 12,
   "outputs": [
    {
     "data": {
      "text/plain": "<AxesSubplot:>"
     },
     "execution_count": 12,
     "metadata": {},
     "output_type": "execute_result"
    },
    {
     "data": {
      "text/plain": "<Figure size 720x432 with 1 Axes>",
      "image/png": "[encoded data removed]"
     },
     "metadata": {
      "needs_background": "light"
     },
     "output_type": "display_data"
    }
   ],
   "source": [
    "# Step 12 - Plot nulls diagram after changes\n",
    "plt.figure(figsize=(10, 6))\n",
    "\n",
    "sns.heatmap(subset.isna(),\n",
    "            yticklabels=False,\n",
    "            cmap='viridis',\n",
    "            cbar=False)\n"
   ],
   "metadata": {
    "collapsed": false,
    "pycharm": {
     "name": "#%%\n"
    }
   }
  },
  {
   "cell_type": "code",
   "execution_count": 13,
   "outputs": [],
   "source": [
    "# Step 13 - Handle \"Case Number\" col\n",
    "subset[\"Case Number\"].fillna(\"Unknown\", inplace=True)"
   ],
   "metadata": {
    "collapsed": false,
    "pycharm": {
     "name": "#%%\n"
    }
   }
  },
  {
   "cell_type": "code",
   "execution_count": 14,
   "outputs": [],
   "source": [
    "# Step 14 - Handle \"Date\" col\n",
    "\n",
    "# Casting \"Date\" col to str in order to apply regex\n",
    "subset[\"Date\"] = subset[\"Date\"].astype(str)\n",
    "\n",
    "# Apply get_year custom  function to extract the year by regex\n",
    "subset[\"Date\"] = subset[\"Date\"].apply(get_date)"
   ],
   "metadata": {
    "collapsed": false,
    "pycharm": {
     "name": "#%%\n"
    }
   }
  },
  {
   "cell_type": "code",
   "execution_count": 15,
   "outputs": [],
   "source": [
    "# Step 15 - Handle \"Year\" col\n",
    "\n",
    "# Apply get_year custom  function to extract the year by regex\n",
    "# We take \"Date\" col instead \"Year\" col in order to normalize\n",
    "subset[\"Year\"] = subset[\"Date\"].apply(get_year)"
   ],
   "metadata": {
    "collapsed": false,
    "pycharm": {
     "name": "#%%\n"
    }
   }
  },
  {
   "cell_type": "code",
   "execution_count": 16,
   "outputs": [],
   "source": [
    "# Step 16 - Casting \"Date\" col to Numpy Period\n",
    "\n",
    "# We avoid using pandas \"pd.to_datetime\" method because,\n",
    "# The timespan that can be represented using a 64-bit integer,\n",
    "# is limited to approximately 584 years:\n",
    "# Source: https://pandas.pydata.org/pandas-docs/stable/user_guide/timeseries.html#timestamp-limitations\n",
    "subset[\"Date\"] = subset[\"Date\"].apply(lambda x: pd.Period(x, freq='ms'))\n"
   ],
   "metadata": {
    "collapsed": false,
    "pycharm": {
     "name": "#%%\n"
    }
   }
  },
  {
   "cell_type": "code",
   "execution_count": 17,
   "outputs": [],
   "source": [
    "# Step 17 - Handle \"Type\" col\n",
    "\n",
    "# Fillna\n",
    "subset.Type.fillna(\"Unknown\", inplace=True)\n",
    "\n",
    "# Replace \"Boatomg\" and \"Boat\" values to \"Boating\"\n",
    "subset.Type[subset.Type == \"Boatomg\"] = \"Boating\"\n",
    "subset.Type[subset.Type == \"Boat\"] = \"Boating\"\n",
    "\n",
    "# Casting \"Type\" col to category\n",
    "subset.Type=subset.Type.astype('category')\n"
   ],
   "metadata": {
    "collapsed": false,
    "pycharm": {
     "name": "#%%\n"
    }
   }
  },
  {
   "cell_type": "code",
   "execution_count": 18,
   "outputs": [],
   "source": [
    "# Step 18 - Handle \"Country\" col\n",
    "\n",
    "# Fillna\n",
    "subset.Country.fillna(\"Unknown\", inplace=True)\n"
   ],
   "metadata": {
    "collapsed": false,
    "pycharm": {
     "name": "#%%\n"
    }
   }
  },
  {
   "cell_type": "code",
   "execution_count": 19,
   "outputs": [],
   "source": [
    "# Step 19 - Handle \"Area\" col\n",
    "\n",
    "# Add \"Country\" col value to null \"Area\" values\n",
    "subset.Area[subset.Area.isnull()] = \"Some area from \" + subset.Country\n"
   ],
   "metadata": {
    "collapsed": false,
    "pycharm": {
     "name": "#%%\n"
    }
   }
  },
  {
   "cell_type": "code",
   "execution_count": 20,
   "outputs": [],
   "source": [
    "# Step 20 - Handle \"Location\" col\n",
    "\n",
    "# Add \"Area\" col value to null \"Location\" values\n",
    "subset.Location[subset.Location.isnull()] = subset.Area\n"
   ],
   "metadata": {
    "collapsed": false,
    "pycharm": {
     "name": "#%%\n"
    }
   }
  },
  {
   "cell_type": "code",
   "execution_count": 21,
   "outputs": [],
   "source": [
    "# Step 21 - Handle \"Activity\" col\n",
    "\n",
    "# Fillna\n",
    "subset.Activity.fillna(\"Unknown\", inplace=True)"
   ],
   "metadata": {
    "collapsed": false,
    "pycharm": {
     "name": "#%%\n"
    }
   }
  },
  {
   "cell_type": "code",
   "execution_count": 22,
   "outputs": [],
   "source": [
    "# Step 22 - Handle \"Name\" col\n",
    "\n",
    "# Fillna\n",
    "subset.Name.fillna(\"Unknown\", inplace=True)"
   ],
   "metadata": {
    "collapsed": false,
    "pycharm": {
     "name": "#%%\n"
    }
   }
  },
  {
   "cell_type": "code",
   "execution_count": 23,
   "outputs": [
    {
     "data": {
      "text/plain": "['F', 'M', 'Unknown']\nCategories (3, object): ['F', 'M', 'Unknown']"
     },
     "execution_count": 23,
     "metadata": {},
     "output_type": "execute_result"
    }
   ],
   "source": [
    "# Step 23 - Handle \"Sex\" col\n",
    "\n",
    "# Casting to str in order to apply regex\n",
    "subset[\"Sex \"] = subset[\"Sex \"].fillna(\"Unknown\")\n",
    "\n",
    "# Regex invalid texts with regex patterns\n",
    "repl_dict = {\n",
    "    \"M\": [\"M \"],\n",
    "    \"Unknown\": [\" \", \".\", \"nan\", \"lli\", \"N\"],\n",
    "}\n",
    "\n",
    "replace_regex(repl_dict, subset, \"Sex \")\n",
    "\n",
    "# Categorize \"Sex\" column\n",
    "subset.Sex=subset[\"Sex \"].astype('category')\n",
    "subset.Sex.unique()"
   ],
   "metadata": {
    "collapsed": false,
    "pycharm": {
     "name": "#%%\n"
    }
   }
  },
  {
   "cell_type": "code",
   "execution_count": 24,
   "outputs": [],
   "source": [
    "# Step 24 - Handle \"Age\" col\n",
    "\n",
    "# Casting to str in order to apply regex\n",
    "subset[\"Age\"] = subset[\"Age\"].astype(str)\n",
    "\n",
    "# Delete invalid texts\n",
    "regex_patterns=['[s]$', '[\\'s]$']\n",
    "\n",
    "for reg in regex_patterns:\n",
    "    subset.Age=subset.Age.str.replace(reg, '', regex=True)\n",
    "\n",
    "subset.Age=subset.Age.str.replace(\"nan\", 'Unknown', regex=True)\n",
    "\n",
    "# Casting \"Age\" to integer\n",
    "subset[\"Age\"] = subset[\"Age\"].astype(int, errors=\"ignore\")"
   ],
   "metadata": {
    "collapsed": false,
    "pycharm": {
     "name": "#%%\n"
    }
   }
  },
  {
   "cell_type": "code",
   "execution_count": 25,
   "outputs": [],
   "source": [
    "# Step 25 - Handle \"Injury\" col\n",
    "\n",
    "# Fillna\n",
    "subset.Injury.fillna(\"Unknown\", inplace=True)"
   ],
   "metadata": {
    "collapsed": false,
    "pycharm": {
     "name": "#%%\n"
    }
   }
  },
  {
   "cell_type": "code",
   "execution_count": 27,
   "outputs": [],
   "source": [
    "# Step 26 - Handle \"Fatal (Y/N)\" col\n",
    "subset[\"Fatal (Y/N)\"] = subset[\"Fatal (Y/N)\"].fillna(\"Unknown\")\n",
    "\n",
    "repl_dict = {\n",
    "    \"N\": [\" N\", \"N \"],\n",
    "    \"Unknown\": [\"nan\", \"UNKNOWN\", \"2017\", \"M\"],\n",
    "    \"Y\": [\"y\"]\n",
    "}\n",
    "\n",
    "replace_regex(repl_dict, subset, \"Fatal (Y/N)\")\n",
    "\n",
    "# Categorize \"Fatal (Y/N)\" column\n",
    "subset[\"Fatal (Y/N)\"]=subset[\"Fatal (Y/N)\"].astype('category')\n"
   ],
   "metadata": {
    "collapsed": false,
    "pycharm": {
     "name": "#%%\n"
    }
   }
  },
  {
   "cell_type": "code",
   "execution_count": 28,
   "outputs": [],
   "source": [
    "# Step 27 - Handle \"Time\" col\n",
    "\n",
    "# Casting to str in order to apply regex\n",
    "subset.Time = subset.Time.astype(str)\n",
    "\n",
    "# Apply get_time custom function\n",
    "subset.Time = subset.Time.apply(get_time)\n"
   ],
   "metadata": {
    "collapsed": false,
    "pycharm": {
     "name": "#%%\n"
    }
   }
  },
  {
   "cell_type": "code",
   "execution_count": 29,
   "outputs": [],
   "source": [
    "# Step 28 - Handle \"Species\" col\n",
    "\n",
    "# Fillna\n",
    "subset[\"Species \"].fillna(\"Unknown\", inplace=True)"
   ],
   "metadata": {
    "collapsed": false,
    "pycharm": {
     "name": "#%%\n"
    }
   }
  },
  {
   "cell_type": "code",
   "execution_count": 30,
   "outputs": [],
   "source": [
    "# Step 29 - fillna sharks datashet\n",
    "sharks.fillna(\"Unknown\", inplace=True)"
   ],
   "metadata": {
    "collapsed": false,
    "pycharm": {
     "name": "#%%\n"
    }
   }
  },
  {
   "cell_type": "code",
   "execution_count": 31,
   "outputs": [],
   "source": [
    "# Step 30 - get cleaned dataframe\n",
    "frames = [subset, sharks[6302:-1]]\n",
    "cleaned_dataframe = pd.concat(frames)"
   ],
   "metadata": {
    "collapsed": false,
    "pycharm": {
     "name": "#%%\n"
    }
   }
  },
  {
   "cell_type": "code",
   "execution_count": 32,
   "outputs": [
    {
     "data": {
      "text/plain": "  Case Number                     Date  Year        Type    Country  \\\n0  2018.06.25  2018-06-25 00:00:00.000  2018     Boating        USA   \n1  2018.06.18  2018-06-18 00:00:00.000  2018  Unprovoked        USA   \n2  2018.06.09  2018-06-09 00:00:00.000  2018     Invalid        USA   \n3  2018.06.08  2018-06-08 00:00:00.000  2018  Unprovoked  AUSTRALIA   \n4  2018.06.04  2018-06-04 00:00:00.000  2018    Provoked     MEXICO   \n\n              Area                        Location     Activity  \\\n0       California     Oceanside, San Diego County     Paddling   \n1          Georgia  St. Simon Island, Glynn County     Standing   \n2           Hawaii                    Habush, Oahu      Surfing   \n3  New South Wales              Arrawarra Headland      Surfing   \n4           Colima                        La Ticla  Free diving   \n\n              Name Sex       Age  \\\n0      Julie Wolfe    F       57   \n1  Adyson McNeely     F       11   \n2      John Denges    M       48   \n3             male    M  Unknown   \n4   Gustavo Ramos     M  Unknown   \n\n                                              Injury Fatal (Y/N)     Time  \\\n0  No injury to occupant, outrigger canoe and pad...           N    18h00   \n1                         Minor injury to left thigh           N    14h00   \n2       Injury to left lower leg from surfboard skeg           N    07h45   \n3                          Minor injury to lower leg           N  Unknown   \n4  Lacerations to leg & hand shark PROVOKED INCIDENT           N  Unknown   \n\n          Species           Investigator or Source                       pdf  \\\n0      White shark                R. Collier, GSAF      2018.06.25-Wolfe.pdf   \n1          Unknown  K.McMurray, TrackingSharks.com    2018.06.18-McNeely.pdf   \n2          Unknown  K.McMurray, TrackingSharks.com     2018.06.09-Denges.pdf   \n3        2 m shark                  B. Myatt, GSAF  2018.06.08-Arrawarra.pdf   \n4  Tiger shark, 3m                       A .Kipper      2018.06.04-Ramos.pdf   \n\n                                        href formula  \\\n0  http://sharkattackfile.net/spreadsheets/pdf_di...   \n1  http://sharkattackfile.net/spreadsheets/pdf_di...   \n2  http://sharkattackfile.net/spreadsheets/pdf_di...   \n3  http://sharkattackfile.net/spreadsheets/pdf_di...   \n4  http://sharkattackfile.net/spreadsheets/pdf_di...   \n\n                                                href Case Number.1  \\\n0  http://sharkattackfile.net/spreadsheets/pdf_di...    2018.06.25   \n1  http://sharkattackfile.net/spreadsheets/pdf_di...    2018.06.18   \n2  http://sharkattackfile.net/spreadsheets/pdf_di...    2018.06.09   \n3  http://sharkattackfile.net/spreadsheets/pdf_di...    2018.06.08   \n4  http://sharkattackfile.net/spreadsheets/pdf_di...    2018.06.04   \n\n  Case Number.2 original order Unnamed: 22 Unnamed: 23  \n0    2018.06.25         6303.0     Unknown     Unknown  \n1    2018.06.18         6302.0     Unknown     Unknown  \n2    2018.06.09         6301.0     Unknown     Unknown  \n3    2018.06.08         6300.0     Unknown     Unknown  \n4    2018.06.04         6299.0     Unknown     Unknown  ",
      "text/html": "<div>\n<style scoped>\n    .dataframe tbody tr th:only-of-type {\n        vertical-align: middle;\n    }\n\n    .dataframe tbody tr th {\n        vertical-align: top;\n    }\n\n    .dataframe thead th {\n        text-align: right;\n    }\n</style>\n<table border=\"1\" class=\"dataframe\">\n  <thead>\n    <tr style=\"text-align: right;\">\n      <th></th>\n      <th>Case Number</th>\n      <th>Date</th>\n      <th>Year</th>\n      <th>Type</th>\n      <th>Country</th>\n      <th>Area</th>\n      <th>Location</th>\n      <th>Activity</th>\n      <th>Name</th>\n      <th>Sex</th>\n      <th>Age</th>\n      <th>Injury</th>\n      <th>Fatal (Y/N)</th>\n      <th>Time</th>\n      <th>Species</th>\n      <th>Investigator or Source</th>\n      <th>pdf</th>\n      <th>href formula</th>\n      <th>href</th>\n      <th>Case Number.1</th>\n      <th>Case Number.2</th>\n      <th>original order</th>\n      <th>Unnamed: 22</th>\n      <th>Unnamed: 23</th>\n    </tr>\n  </thead>\n  <tbody>\n    <tr>\n      <th>0</th>\n      <td>2018.06.25</td>\n      <td>2018-06-25 00:00:00.000</td>\n      <td>2018</td>\n      <td>Boating</td>\n      <td>USA</td>\n      <td>California</td>\n      <td>Oceanside, San Diego County</td>\n      <td>Paddling</td>\n      <td>Julie Wolfe</td>\n      <td>F</td>\n      <td>57</td>\n      <td>No injury to occupant, outrigger canoe and pad...</td>\n      <td>N</td>\n      <td>18h00</td>\n      <td>White shark</td>\n      <td>R. Collier, GSAF</td>\n      <td>2018.06.25-Wolfe.pdf</td>\n      <td>http://sharkattackfile.net/spreadsheets/pdf_di...</td>\n      <td>http://sharkattackfile.net/spreadsheets/pdf_di...</td>\n      <td>2018.06.25</td>\n      <td>2018.06.25</td>\n      <td>6303.0</td>\n      <td>Unknown</td>\n      <td>Unknown</td>\n    </tr>\n    <tr>\n      <th>1</th>\n      <td>2018.06.18</td>\n      <td>2018-06-18 00:00:00.000</td>\n      <td>2018</td>\n      <td>Unprovoked</td>\n      <td>USA</td>\n      <td>Georgia</td>\n      <td>St. Simon Island, Glynn County</td>\n      <td>Standing</td>\n      <td>Adyson McNeely</td>\n      <td>F</td>\n      <td>11</td>\n      <td>Minor injury to left thigh</td>\n      <td>N</td>\n      <td>14h00</td>\n      <td>Unknown</td>\n      <td>K.McMurray, TrackingSharks.com</td>\n      <td>2018.06.18-McNeely.pdf</td>\n      <td>http://sharkattackfile.net/spreadsheets/pdf_di...</td>\n      <td>http://sharkattackfile.net/spreadsheets/pdf_di...</td>\n      <td>2018.06.18</td>\n      <td>2018.06.18</td>\n      <td>6302.0</td>\n      <td>Unknown</td>\n      <td>Unknown</td>\n    </tr>\n    <tr>\n      <th>2</th>\n      <td>2018.06.09</td>\n      <td>2018-06-09 00:00:00.000</td>\n      <td>2018</td>\n      <td>Invalid</td>\n      <td>USA</td>\n      <td>Hawaii</td>\n      <td>Habush, Oahu</td>\n      <td>Surfing</td>\n      <td>John Denges</td>\n      <td>M</td>\n      <td>48</td>\n      <td>Injury to left lower leg from surfboard skeg</td>\n      <td>N</td>\n      <td>07h45</td>\n      <td>Unknown</td>\n      <td>K.McMurray, TrackingSharks.com</td>\n      <td>2018.06.09-Denges.pdf</td>\n      <td>http://sharkattackfile.net/spreadsheets/pdf_di...</td>\n      <td>http://sharkattackfile.net/spreadsheets/pdf_di...</td>\n      <td>2018.06.09</td>\n      <td>2018.06.09</td>\n      <td>6301.0</td>\n      <td>Unknown</td>\n      <td>Unknown</td>\n    </tr>\n    <tr>\n      <th>3</th>\n      <td>2018.06.08</td>\n      <td>2018-06-08 00:00:00.000</td>\n      <td>2018</td>\n      <td>Unprovoked</td>\n      <td>AUSTRALIA</td>\n      <td>New South Wales</td>\n      <td>Arrawarra Headland</td>\n      <td>Surfing</td>\n      <td>male</td>\n      <td>M</td>\n      <td>Unknown</td>\n      <td>Minor injury to lower leg</td>\n      <td>N</td>\n      <td>Unknown</td>\n      <td>2 m shark</td>\n      <td>B. Myatt, GSAF</td>\n      <td>2018.06.08-Arrawarra.pdf</td>\n      <td>http://sharkattackfile.net/spreadsheets/pdf_di...</td>\n      <td>http://sharkattackfile.net/spreadsheets/pdf_di...</td>\n      <td>2018.06.08</td>\n      <td>2018.06.08</td>\n      <td>6300.0</td>\n      <td>Unknown</td>\n      <td>Unknown</td>\n    </tr>\n    <tr>\n      <th>4</th>\n      <td>2018.06.04</td>\n      <td>2018-06-04 00:00:00.000</td>\n      <td>2018</td>\n      <td>Provoked</td>\n      <td>MEXICO</td>\n      <td>Colima</td>\n      <td>La Ticla</td>\n      <td>Free diving</td>\n      <td>Gustavo Ramos</td>\n      <td>M</td>\n      <td>Unknown</td>\n      <td>Lacerations to leg &amp; hand shark PROVOKED INCIDENT</td>\n      <td>N</td>\n      <td>Unknown</td>\n      <td>Tiger shark, 3m</td>\n      <td>A .Kipper</td>\n      <td>2018.06.04-Ramos.pdf</td>\n      <td>http://sharkattackfile.net/spreadsheets/pdf_di...</td>\n      <td>http://sharkattackfile.net/spreadsheets/pdf_di...</td>\n      <td>2018.06.04</td>\n      <td>2018.06.04</td>\n      <td>6299.0</td>\n      <td>Unknown</td>\n      <td>Unknown</td>\n    </tr>\n  </tbody>\n</table>\n</div>"
     },
     "execution_count": 32,
     "metadata": {},
     "output_type": "execute_result"
    }
   ],
   "source": [
    "cleaned_dataframe.head()"
   ],
   "metadata": {
    "collapsed": false,
    "pycharm": {
     "name": "#%%\n"
    }
   }
  },
  {
   "cell_type": "code",
   "execution_count": 33,
   "outputs": [
    {
     "data": {
      "text/plain": "<AxesSubplot:>"
     },
     "execution_count": 33,
     "metadata": {},
     "output_type": "execute_result"
    },
    {
     "data": {
      "text/plain": "<Figure size 720x432 with 1 Axes>",
      "image/png": "[encoded data removed]"
     },
     "metadata": {
      "needs_background": "light"
     },
     "output_type": "display_data"
    }
   ],
   "source": [
    "plt.figure(figsize=(10, 6))\n",
    "\n",
    "sns.heatmap(sharks.isna(),\n",
    "            yticklabels=False,\n",
    "            cmap='viridis',\n",
    "            cbar=False)"
   ],
   "metadata": {
    "collapsed": false,
    "pycharm": {
     "name": "#%%\n"
    }
   }
  }
 ],
 "metadata": {
  "kernelspec": {
   "display_name": "Python 3",
   "language": "python",
   "name": "python3"
  },
  "language_info": {
   "codemirror_mode": {
    "name": "ipython",
    "version": 2
   },
   "file_extension": ".py",
   "mimetype": "text/x-python",
   "name": "python",
   "nbconvert_exporter": "python",
   "pygments_lexer": "ipython2",
   "version": "2.7.6"
  }
 },
 "nbformat": 4,
 "nbformat_minor": 0
}